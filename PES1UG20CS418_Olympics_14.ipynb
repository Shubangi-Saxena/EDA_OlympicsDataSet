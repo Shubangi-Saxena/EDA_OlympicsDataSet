{
  "cells": [
    {
      "cell_type": "markdown",
      "metadata": {},
      "source": [
        "Assignment ID:PES1UG20CS418_Olympics_14"
      ]
    },
    {
      "cell_type": "code",
      "execution_count": 1,
      "metadata": {
        "id": "u_3NiEXYsg9y"
      },
      "outputs": [],
      "source": [
        "#q1(Olympic dataset)\n",
        "#importing all the required modules\n",
        "import pandas as pd\n",
        "import numpy as np\n",
        "import seaborn as sns\n",
        "\n",
        "import matplotlib.pyplot as plt\n",
        "import matplotlib.mlab as mlab\n",
        "import matplotlib\n",
        "from matplotlib.pyplot import figure"
      ]
    },
    {
      "cell_type": "code",
      "execution_count": 4,
      "metadata": {
        "colab": {
          "base_uri": "https://localhost:8080/",
          "height": 417
        },
        "id": "P2_hYk30vFK4",
        "outputId": "847c693c-a8f4-47cb-b133-27eb4dbdf55e"
      },
      "outputs": [
        {
          "data": {
            "text/html": [
              "<div>\n",
              "<style scoped>\n",
              "    .dataframe tbody tr th:only-of-type {\n",
              "        vertical-align: middle;\n",
              "    }\n",
              "\n",
              "    .dataframe tbody tr th {\n",
              "        vertical-align: top;\n",
              "    }\n",
              "\n",
              "    .dataframe thead th {\n",
              "        text-align: right;\n",
              "    }\n",
              "</style>\n",
              "<table border=\"1\" class=\"dataframe\">\n",
              "  <thead>\n",
              "    <tr style=\"text-align: right;\">\n",
              "      <th></th>\n",
              "      <th>ID</th>\n",
              "      <th>Name</th>\n",
              "      <th>Sex</th>\n",
              "      <th>Age</th>\n",
              "      <th>Height</th>\n",
              "      <th>Weight</th>\n",
              "      <th>Team</th>\n",
              "      <th>NOC</th>\n",
              "      <th>Games</th>\n",
              "      <th>Year</th>\n",
              "      <th>Season</th>\n",
              "      <th>City</th>\n",
              "      <th>Sport</th>\n",
              "      <th>Event</th>\n",
              "      <th>Medal</th>\n",
              "    </tr>\n",
              "  </thead>\n",
              "  <tbody>\n",
              "    <tr>\n",
              "      <th>0</th>\n",
              "      <td>30</td>\n",
              "      <td>Pepijn Aardewijn</td>\n",
              "      <td>M</td>\n",
              "      <td>28.0</td>\n",
              "      <td>192.0</td>\n",
              "      <td>76.0</td>\n",
              "      <td>Czechoslovakia</td>\n",
              "      <td>TCH</td>\n",
              "      <td>1996 Summer</td>\n",
              "      <td>1996</td>\n",
              "      <td>Summer</td>\n",
              "      <td>Atlanta</td>\n",
              "      <td>Rowing</td>\n",
              "      <td>Rowing Men's Lightweight Double Sculls</td>\n",
              "      <td>Silver</td>\n",
              "    </tr>\n",
              "    <tr>\n",
              "      <th>1</th>\n",
              "      <td>62</td>\n",
              "      <td>Giovanni Abagnale</td>\n",
              "      <td>M</td>\n",
              "      <td>23.0</td>\n",
              "      <td>201.0</td>\n",
              "      <td>94.0</td>\n",
              "      <td>Germany</td>\n",
              "      <td>GER</td>\n",
              "      <td>2016 Summer</td>\n",
              "      <td>2016</td>\n",
              "      <td>Summer</td>\n",
              "      <td>Rio de Janeiro</td>\n",
              "      <td>Rowing</td>\n",
              "      <td>Rowing Men's Coxless Pairs</td>\n",
              "      <td>Bronze</td>\n",
              "    </tr>\n",
              "    <tr>\n",
              "      <th>2</th>\n",
              "      <td>106</td>\n",
              "      <td>Agostino Abbagnale</td>\n",
              "      <td>M</td>\n",
              "      <td>38.0</td>\n",
              "      <td>191.0</td>\n",
              "      <td>100.0</td>\n",
              "      <td>Germany</td>\n",
              "      <td>GER</td>\n",
              "      <td>1996 Summer</td>\n",
              "      <td>1996</td>\n",
              "      <td>Summer</td>\n",
              "      <td>Atlanta</td>\n",
              "      <td>Rowing</td>\n",
              "      <td>Rowing Men's Double Sculls</td>\n",
              "      <td>Gold</td>\n",
              "    </tr>\n",
              "    <tr>\n",
              "      <th>3</th>\n",
              "      <td>106</td>\n",
              "      <td>Agostino Abbagnale</td>\n",
              "      <td>M</td>\n",
              "      <td>36.0</td>\n",
              "      <td>191.0</td>\n",
              "      <td>100.0</td>\n",
              "      <td>Germany</td>\n",
              "      <td>GER</td>\n",
              "      <td>2000 Summer</td>\n",
              "      <td>2000</td>\n",
              "      <td>Summer</td>\n",
              "      <td>Sydney</td>\n",
              "      <td>Rowing</td>\n",
              "      <td>Rowing Men's Quadruple Sculls</td>\n",
              "      <td>Gold</td>\n",
              "    </tr>\n",
              "    <tr>\n",
              "      <th>4</th>\n",
              "      <td>107</td>\n",
              "      <td>Carmine Abbagnale</td>\n",
              "      <td>M</td>\n",
              "      <td>32.0</td>\n",
              "      <td>185.0</td>\n",
              "      <td>94.0</td>\n",
              "      <td>Germany</td>\n",
              "      <td>GER</td>\n",
              "      <td>1992 Summer</td>\n",
              "      <td>1992</td>\n",
              "      <td>Summer</td>\n",
              "      <td>Barcelona</td>\n",
              "      <td>Rowing</td>\n",
              "      <td>Rowing Men's Coxed Pairs</td>\n",
              "      <td>Silver</td>\n",
              "    </tr>\n",
              "    <tr>\n",
              "      <th>...</th>\n",
              "      <td>...</td>\n",
              "      <td>...</td>\n",
              "      <td>...</td>\n",
              "      <td>...</td>\n",
              "      <td>...</td>\n",
              "      <td>...</td>\n",
              "      <td>...</td>\n",
              "      <td>...</td>\n",
              "      <td>...</td>\n",
              "      <td>...</td>\n",
              "      <td>...</td>\n",
              "      <td>...</td>\n",
              "      <td>...</td>\n",
              "      <td>...</td>\n",
              "      <td>...</td>\n",
              "    </tr>\n",
              "    <tr>\n",
              "      <th>994</th>\n",
              "      <td>134585</td>\n",
              "      <td>Zhang Xiuyun</td>\n",
              "      <td>F</td>\n",
              "      <td>30.0</td>\n",
              "      <td>181.0</td>\n",
              "      <td>75.0</td>\n",
              "      <td>China</td>\n",
              "      <td>CHN</td>\n",
              "      <td>1996 Summer</td>\n",
              "      <td>1996</td>\n",
              "      <td>Summer</td>\n",
              "      <td>Atlanta</td>\n",
              "      <td>Rowing</td>\n",
              "      <td>Rowing Women's Double Sculls</td>\n",
              "      <td>Silver</td>\n",
              "    </tr>\n",
              "    <tr>\n",
              "      <th>995</th>\n",
              "      <td>134592</td>\n",
              "      <td>Zhang Yangyang</td>\n",
              "      <td>F</td>\n",
              "      <td>21.0</td>\n",
              "      <td>188.0</td>\n",
              "      <td>84.0</td>\n",
              "      <td>China</td>\n",
              "      <td>CHN</td>\n",
              "      <td>2008 Summer</td>\n",
              "      <td>2008</td>\n",
              "      <td>Summer</td>\n",
              "      <td>Beijing</td>\n",
              "      <td>Rowing</td>\n",
              "      <td>Rowing Women's Quadruple Sculls</td>\n",
              "      <td>Gold</td>\n",
              "    </tr>\n",
              "    <tr>\n",
              "      <th>996</th>\n",
              "      <td>135169</td>\n",
              "      <td>Marina Nikolayevna Znak</td>\n",
              "      <td>F</td>\n",
              "      <td>37.0</td>\n",
              "      <td>183.0</td>\n",
              "      <td>79.0</td>\n",
              "      <td>Switzerland</td>\n",
              "      <td>SUI</td>\n",
              "      <td>1996 Summer</td>\n",
              "      <td>1996</td>\n",
              "      <td>Summer</td>\n",
              "      <td>Atlanta</td>\n",
              "      <td>Rowing</td>\n",
              "      <td>Rowing Women's Coxed Eights</td>\n",
              "      <td>Bronze</td>\n",
              "    </tr>\n",
              "    <tr>\n",
              "      <th>997</th>\n",
              "      <td>135545</td>\n",
              "      <td>Henk Jan Zwolle</td>\n",
              "      <td>M</td>\n",
              "      <td>29.0</td>\n",
              "      <td>200.0</td>\n",
              "      <td>97.0</td>\n",
              "      <td>Czechoslovakia</td>\n",
              "      <td>TCH</td>\n",
              "      <td>1992 Summer</td>\n",
              "      <td>1992</td>\n",
              "      <td>Summer</td>\n",
              "      <td>Barcelona</td>\n",
              "      <td>Rowing</td>\n",
              "      <td>Rowing Men's Double Sculls</td>\n",
              "      <td>Bronze</td>\n",
              "    </tr>\n",
              "    <tr>\n",
              "      <th>998</th>\n",
              "      <td>135545</td>\n",
              "      <td>Henk Jan Zwolle</td>\n",
              "      <td>M</td>\n",
              "      <td>33.0</td>\n",
              "      <td>200.0</td>\n",
              "      <td>97.0</td>\n",
              "      <td>Czechoslovakia</td>\n",
              "      <td>TCH</td>\n",
              "      <td>1996 Summer</td>\n",
              "      <td>1996</td>\n",
              "      <td>Summer</td>\n",
              "      <td>Atlanta</td>\n",
              "      <td>Rowing</td>\n",
              "      <td>Rowing Men's Coxed Eights</td>\n",
              "      <td>Gold</td>\n",
              "    </tr>\n",
              "  </tbody>\n",
              "</table>\n",
              "<p>999 rows × 15 columns</p>\n",
              "</div>"
            ],
            "text/plain": [
              "         ID  ...   Medal\n",
              "0        30  ...  Silver\n",
              "1        62  ...  Bronze\n",
              "2       106  ...    Gold\n",
              "3       106  ...    Gold\n",
              "4       107  ...  Silver\n",
              "..      ...  ...     ...\n",
              "994  134585  ...  Silver\n",
              "995  134592  ...    Gold\n",
              "996  135169  ...  Bronze\n",
              "997  135545  ...  Bronze\n",
              "998  135545  ...    Gold\n",
              "\n",
              "[999 rows x 15 columns]"
            ]
          },
          "execution_count": 4,
          "metadata": {},
          "output_type": "execute_result"
        }
      ],
      "source": [
        "df= pd.read_csv(\"14.csv\")#reading the csv file\n",
        "df #displaying the dataset"
      ]
    },
    {
      "cell_type": "code",
      "execution_count": 5,
      "metadata": {
        "colab": {
          "base_uri": "https://localhost:8080/"
        },
        "id": "frcBGFdAvR7r",
        "outputId": "b594105f-47c3-431c-f55d-1f3378266263"
      },
      "outputs": [
        {
          "name": "stdout",
          "output_type": "stream",
          "text": [
            "(999, 15)\n",
            "ID          int64\n",
            "Name       object\n",
            "Sex        object\n",
            "Age       float64\n",
            "Height    float64\n",
            "Weight    float64\n",
            "Team       object\n",
            "NOC        object\n",
            "Games      object\n",
            "Year        int64\n",
            "Season     object\n",
            "City       object\n",
            "Sport      object\n",
            "Event      object\n",
            "Medal      object\n",
            "dtype: object\n"
          ]
        }
      ],
      "source": [
        "print(df.shape)#gives the number of rows and columns\n",
        "print(df.dtypes)#gives the types of data filled in the respective column"
      ]
    },
    {
      "cell_type": "code",
      "execution_count": 8,
      "metadata": {
        "colab": {
          "base_uri": "https://localhost:8080/",
          "height": 313
        },
        "id": "ni9O3UYUvhzf",
        "outputId": "04556644-39ae-4c6d-a8b3-0e8f4a4ebf34"
      },
      "outputs": [
        {
          "data": {
            "text/plain": [
              "<matplotlib.axes._subplots.AxesSubplot at 0x7f0a34d95810>"
            ]
          },
          "execution_count": 8,
          "metadata": {},
          "output_type": "execute_result"
        },
        {
          "data": {
            "image/png": "[encoded data removed]",
            "text/plain": [
              "<Figure size 432x288 with 2 Axes>"
            ]
          },
          "metadata": {
            "needs_background": "light"
          },
          "output_type": "display_data"
        }
      ],
      "source": [
        "#creating a heatmap to get an idea of all the missing values\n",
        "cols = df.columns[:30]\n",
        "colours = ['olive', 'blue'] # specify the colours - blue is missing. olive is not missing.\n",
        "sns.heatmap(df[cols].isnull(), cmap=sns.color_palette(colours))"
      ]
    },
    {
      "cell_type": "code",
      "execution_count": 9,
      "metadata": {
        "colab": {
          "base_uri": "https://localhost:8080/"
        },
        "id": "0VKBFE_fv-KB",
        "outputId": "483296b7-7b8d-47d9-b22c-ab2e6fc431ab"
      },
      "outputs": [
        {
          "data": {
            "text/plain": [
              "ID         0\n",
              "Name       0\n",
              "Sex        0\n",
              "Age       10\n",
              "Height     9\n",
              "Weight     4\n",
              "Team       0\n",
              "NOC        0\n",
              "Games      0\n",
              "Year       0\n",
              "Season     0\n",
              "City       0\n",
              "Sport      0\n",
              "Event      0\n",
              "Medal      0\n",
              "dtype: int64"
            ]
          },
          "execution_count": 9,
          "metadata": {},
          "output_type": "execute_result"
        }
      ],
      "source": [
        "df.isnull().sum()#getting the sum of all the missing values in a column"
      ]
    },
    {
      "cell_type": "code",
      "execution_count": 10,
      "metadata": {
        "colab": {
          "base_uri": "https://localhost:8080/",
          "height": 417
        },
        "id": "Yyw7UtS6wW_Q",
        "outputId": "36c62ff7-a41a-4cd2-9288-69b1c853d0ce"
      },
      "outputs": [
        {
          "data": {
            "text/html": [
              "<div>\n",
              "<style scoped>\n",
              "    .dataframe tbody tr th:only-of-type {\n",
              "        vertical-align: middle;\n",
              "    }\n",
              "\n",
              "    .dataframe tbody tr th {\n",
              "        vertical-align: top;\n",
              "    }\n",
              "\n",
              "    .dataframe thead th {\n",
              "        text-align: right;\n",
              "    }\n",
              "</style>\n",
              "<table border=\"1\" class=\"dataframe\">\n",
              "  <thead>\n",
              "    <tr style=\"text-align: right;\">\n",
              "      <th></th>\n",
              "      <th>ID</th>\n",
              "      <th>Name</th>\n",
              "      <th>Sex</th>\n",
              "      <th>Age</th>\n",
              "      <th>Height</th>\n",
              "      <th>Weight</th>\n",
              "      <th>Team</th>\n",
              "      <th>NOC</th>\n",
              "      <th>Games</th>\n",
              "      <th>Year</th>\n",
              "      <th>Season</th>\n",
              "      <th>City</th>\n",
              "      <th>Sport</th>\n",
              "      <th>Event</th>\n",
              "      <th>Medal</th>\n",
              "    </tr>\n",
              "  </thead>\n",
              "  <tbody>\n",
              "    <tr>\n",
              "      <th>0</th>\n",
              "      <td>30</td>\n",
              "      <td>Pepijn Aardewijn</td>\n",
              "      <td>M</td>\n",
              "      <td>28.0</td>\n",
              "      <td>192.0</td>\n",
              "      <td>76.0</td>\n",
              "      <td>Czechoslovakia</td>\n",
              "      <td>TCH</td>\n",
              "      <td>1996 Summer</td>\n",
              "      <td>1996</td>\n",
              "      <td>Summer</td>\n",
              "      <td>Atlanta</td>\n",
              "      <td>Rowing</td>\n",
              "      <td>Rowing Men's Lightweight Double Sculls</td>\n",
              "      <td>Silver</td>\n",
              "    </tr>\n",
              "    <tr>\n",
              "      <th>1</th>\n",
              "      <td>62</td>\n",
              "      <td>Giovanni Abagnale</td>\n",
              "      <td>M</td>\n",
              "      <td>23.0</td>\n",
              "      <td>201.0</td>\n",
              "      <td>94.0</td>\n",
              "      <td>Germany</td>\n",
              "      <td>GER</td>\n",
              "      <td>2016 Summer</td>\n",
              "      <td>2016</td>\n",
              "      <td>Summer</td>\n",
              "      <td>Rio de Janeiro</td>\n",
              "      <td>Rowing</td>\n",
              "      <td>Rowing Men's Coxless Pairs</td>\n",
              "      <td>Bronze</td>\n",
              "    </tr>\n",
              "    <tr>\n",
              "      <th>2</th>\n",
              "      <td>106</td>\n",
              "      <td>Agostino Abbagnale</td>\n",
              "      <td>M</td>\n",
              "      <td>38.0</td>\n",
              "      <td>191.0</td>\n",
              "      <td>100.0</td>\n",
              "      <td>Germany</td>\n",
              "      <td>GER</td>\n",
              "      <td>1996 Summer</td>\n",
              "      <td>1996</td>\n",
              "      <td>Summer</td>\n",
              "      <td>Atlanta</td>\n",
              "      <td>Rowing</td>\n",
              "      <td>Rowing Men's Double Sculls</td>\n",
              "      <td>Gold</td>\n",
              "    </tr>\n",
              "    <tr>\n",
              "      <th>3</th>\n",
              "      <td>106</td>\n",
              "      <td>Agostino Abbagnale</td>\n",
              "      <td>M</td>\n",
              "      <td>36.0</td>\n",
              "      <td>191.0</td>\n",
              "      <td>100.0</td>\n",
              "      <td>Germany</td>\n",
              "      <td>GER</td>\n",
              "      <td>2000 Summer</td>\n",
              "      <td>2000</td>\n",
              "      <td>Summer</td>\n",
              "      <td>Sydney</td>\n",
              "      <td>Rowing</td>\n",
              "      <td>Rowing Men's Quadruple Sculls</td>\n",
              "      <td>Gold</td>\n",
              "    </tr>\n",
              "    <tr>\n",
              "      <th>4</th>\n",
              "      <td>107</td>\n",
              "      <td>Carmine Abbagnale</td>\n",
              "      <td>M</td>\n",
              "      <td>32.0</td>\n",
              "      <td>185.0</td>\n",
              "      <td>94.0</td>\n",
              "      <td>Germany</td>\n",
              "      <td>GER</td>\n",
              "      <td>1992 Summer</td>\n",
              "      <td>1992</td>\n",
              "      <td>Summer</td>\n",
              "      <td>Barcelona</td>\n",
              "      <td>Rowing</td>\n",
              "      <td>Rowing Men's Coxed Pairs</td>\n",
              "      <td>Silver</td>\n",
              "    </tr>\n",
              "    <tr>\n",
              "      <th>...</th>\n",
              "      <td>...</td>\n",
              "      <td>...</td>\n",
              "      <td>...</td>\n",
              "      <td>...</td>\n",
              "      <td>...</td>\n",
              "      <td>...</td>\n",
              "      <td>...</td>\n",
              "      <td>...</td>\n",
              "      <td>...</td>\n",
              "      <td>...</td>\n",
              "      <td>...</td>\n",
              "      <td>...</td>\n",
              "      <td>...</td>\n",
              "      <td>...</td>\n",
              "      <td>...</td>\n",
              "    </tr>\n",
              "    <tr>\n",
              "      <th>994</th>\n",
              "      <td>134585</td>\n",
              "      <td>Zhang Xiuyun</td>\n",
              "      <td>F</td>\n",
              "      <td>30.0</td>\n",
              "      <td>181.0</td>\n",
              "      <td>75.0</td>\n",
              "      <td>China</td>\n",
              "      <td>CHN</td>\n",
              "      <td>1996 Summer</td>\n",
              "      <td>1996</td>\n",
              "      <td>Summer</td>\n",
              "      <td>Atlanta</td>\n",
              "      <td>Rowing</td>\n",
              "      <td>Rowing Women's Double Sculls</td>\n",
              "      <td>Silver</td>\n",
              "    </tr>\n",
              "    <tr>\n",
              "      <th>995</th>\n",
              "      <td>134592</td>\n",
              "      <td>Zhang Yangyang</td>\n",
              "      <td>F</td>\n",
              "      <td>21.0</td>\n",
              "      <td>188.0</td>\n",
              "      <td>84.0</td>\n",
              "      <td>China</td>\n",
              "      <td>CHN</td>\n",
              "      <td>2008 Summer</td>\n",
              "      <td>2008</td>\n",
              "      <td>Summer</td>\n",
              "      <td>Beijing</td>\n",
              "      <td>Rowing</td>\n",
              "      <td>Rowing Women's Quadruple Sculls</td>\n",
              "      <td>Gold</td>\n",
              "    </tr>\n",
              "    <tr>\n",
              "      <th>996</th>\n",
              "      <td>135169</td>\n",
              "      <td>Marina Nikolayevna Znak</td>\n",
              "      <td>F</td>\n",
              "      <td>37.0</td>\n",
              "      <td>183.0</td>\n",
              "      <td>79.0</td>\n",
              "      <td>Switzerland</td>\n",
              "      <td>SUI</td>\n",
              "      <td>1996 Summer</td>\n",
              "      <td>1996</td>\n",
              "      <td>Summer</td>\n",
              "      <td>Atlanta</td>\n",
              "      <td>Rowing</td>\n",
              "      <td>Rowing Women's Coxed Eights</td>\n",
              "      <td>Bronze</td>\n",
              "    </tr>\n",
              "    <tr>\n",
              "      <th>997</th>\n",
              "      <td>135545</td>\n",
              "      <td>Henk Jan Zwolle</td>\n",
              "      <td>M</td>\n",
              "      <td>29.0</td>\n",
              "      <td>200.0</td>\n",
              "      <td>97.0</td>\n",
              "      <td>Czechoslovakia</td>\n",
              "      <td>TCH</td>\n",
              "      <td>1992 Summer</td>\n",
              "      <td>1992</td>\n",
              "      <td>Summer</td>\n",
              "      <td>Barcelona</td>\n",
              "      <td>Rowing</td>\n",
              "      <td>Rowing Men's Double Sculls</td>\n",
              "      <td>Bronze</td>\n",
              "    </tr>\n",
              "    <tr>\n",
              "      <th>998</th>\n",
              "      <td>135545</td>\n",
              "      <td>Henk Jan Zwolle</td>\n",
              "      <td>M</td>\n",
              "      <td>33.0</td>\n",
              "      <td>200.0</td>\n",
              "      <td>97.0</td>\n",
              "      <td>Czechoslovakia</td>\n",
              "      <td>TCH</td>\n",
              "      <td>1996 Summer</td>\n",
              "      <td>1996</td>\n",
              "      <td>Summer</td>\n",
              "      <td>Atlanta</td>\n",
              "      <td>Rowing</td>\n",
              "      <td>Rowing Men's Coxed Eights</td>\n",
              "      <td>Gold</td>\n",
              "    </tr>\n",
              "  </tbody>\n",
              "</table>\n",
              "<p>999 rows × 15 columns</p>\n",
              "</div>"
            ],
            "text/plain": [
              "         ID  ...   Medal\n",
              "0        30  ...  Silver\n",
              "1        62  ...  Bronze\n",
              "2       106  ...    Gold\n",
              "3       106  ...    Gold\n",
              "4       107  ...  Silver\n",
              "..      ...  ...     ...\n",
              "994  134585  ...  Silver\n",
              "995  134592  ...    Gold\n",
              "996  135169  ...  Bronze\n",
              "997  135545  ...  Bronze\n",
              "998  135545  ...    Gold\n",
              "\n",
              "[999 rows x 15 columns]"
            ]
          },
          "execution_count": 10,
          "metadata": {},
          "output_type": "execute_result"
        }
      ],
      "source": [
        "#since we know that there are three columns with missing data we can work on cleaning those\n",
        "mean1=df['Age'].mean() #finding mean of age column\n",
        "df['Age'].fillna(mean1,inplace=True) #replacing the missing values with mean values of the column\n",
        "\n",
        "mean2=df['Height'].mean() #finding mean of age column\n",
        "df['Height'].fillna(mean2,inplace=True)\n",
        "\n",
        "mean3=df['Weight'].mean() #finding mean of age column\n",
        "df['Weight'].fillna(mean3,inplace=True)\n",
        "\n",
        "df#displaying the data after cleaning"
      ]
    },
    {
      "cell_type": "code",
      "execution_count": 11,
      "metadata": {
        "colab": {
          "base_uri": "https://localhost:8080/"
        },
        "id": "c99dJceBx1K5",
        "outputId": "d6ea7bcd-d75d-432f-b115-ec8d596ad96e"
      },
      "outputs": [
        {
          "data": {
            "text/plain": [
              "0"
            ]
          },
          "execution_count": 11,
          "metadata": {},
          "output_type": "execute_result"
        }
      ],
      "source": [
        "#checking if there are any missing values which might have been missed out in dataset\n",
        "df.isnull().sum().sum()"
      ]
    },
    {
      "cell_type": "code",
      "execution_count": 33,
      "metadata": {
        "colab": {
          "base_uri": "https://localhost:8080/",
          "height": 417
        },
        "id": "PHazqC74x-yM",
        "outputId": "eb8ce4b0-bcea-4bd3-dc5c-9137832b6ca6"
      },
      "outputs": [
        {
          "data": {
            "text/html": [
              "<div>\n",
              "<style scoped>\n",
              "    .dataframe tbody tr th:only-of-type {\n",
              "        vertical-align: middle;\n",
              "    }\n",
              "\n",
              "    .dataframe tbody tr th {\n",
              "        vertical-align: top;\n",
              "    }\n",
              "\n",
              "    .dataframe thead th {\n",
              "        text-align: right;\n",
              "    }\n",
              "</style>\n",
              "<table border=\"1\" class=\"dataframe\">\n",
              "  <thead>\n",
              "    <tr style=\"text-align: right;\">\n",
              "      <th></th>\n",
              "      <th>Age</th>\n",
              "      <th>Medal</th>\n",
              "    </tr>\n",
              "  </thead>\n",
              "  <tbody>\n",
              "    <tr>\n",
              "      <th>0</th>\n",
              "      <td>28.0</td>\n",
              "      <td>Silver</td>\n",
              "    </tr>\n",
              "    <tr>\n",
              "      <th>4</th>\n",
              "      <td>32.0</td>\n",
              "      <td>Silver</td>\n",
              "    </tr>\n",
              "    <tr>\n",
              "      <th>5</th>\n",
              "      <td>35.0</td>\n",
              "      <td>Silver</td>\n",
              "    </tr>\n",
              "    <tr>\n",
              "      <th>7</th>\n",
              "      <td>33.0</td>\n",
              "      <td>Silver</td>\n",
              "    </tr>\n",
              "    <tr>\n",
              "      <th>10</th>\n",
              "      <td>29.0</td>\n",
              "      <td>Silver</td>\n",
              "    </tr>\n",
              "    <tr>\n",
              "      <th>...</th>\n",
              "      <td>...</td>\n",
              "      <td>...</td>\n",
              "    </tr>\n",
              "    <tr>\n",
              "      <th>987</th>\n",
              "      <td>26.0</td>\n",
              "      <td>Silver</td>\n",
              "    </tr>\n",
              "    <tr>\n",
              "      <th>989</th>\n",
              "      <td>31.0</td>\n",
              "      <td>Silver</td>\n",
              "    </tr>\n",
              "    <tr>\n",
              "      <th>991</th>\n",
              "      <td>30.0</td>\n",
              "      <td>Silver</td>\n",
              "    </tr>\n",
              "    <tr>\n",
              "      <th>993</th>\n",
              "      <td>30.0</td>\n",
              "      <td>Silver</td>\n",
              "    </tr>\n",
              "    <tr>\n",
              "      <th>994</th>\n",
              "      <td>30.0</td>\n",
              "      <td>Silver</td>\n",
              "    </tr>\n",
              "  </tbody>\n",
              "</table>\n",
              "<p>334 rows × 2 columns</p>\n",
              "</div>"
            ],
            "text/plain": [
              "      Age   Medal\n",
              "0    28.0  Silver\n",
              "4    32.0  Silver\n",
              "5    35.0  Silver\n",
              "7    33.0  Silver\n",
              "10   29.0  Silver\n",
              "..    ...     ...\n",
              "987  26.0  Silver\n",
              "989  31.0  Silver\n",
              "991  30.0  Silver\n",
              "993  30.0  Silver\n",
              "994  30.0  Silver\n",
              "\n",
              "[334 rows x 2 columns]"
            ]
          },
          "execution_count": 33,
          "metadata": {},
          "output_type": "execute_result"
        }
      ],
      "source": [
        "#q2\n",
        "df1=df[df['Medal']=='Silver']#creating a data frame of just the age and Silver medal\n",
        "df2=df1.drop(['ID','Name','Sex','Height','Weight','Team','NOC','Games','Year','Season','City','Sport','Event'],axis=1)\n",
        "df2 "
      ]
    },
    {
      "cell_type": "code",
      "execution_count": 44,
      "metadata": {
        "colab": {
          "base_uri": "https://localhost:8080/",
          "height": 312
        },
        "id": "C9u0Q_WHzPxn",
        "outputId": "173f6432-a8c1-4ea2-eb39-eeca4ccf396b"
      },
      "outputs": [
        {
          "data": {
            "text/plain": [
              "Text(0, 0.5, 'Count')"
            ]
          },
          "execution_count": 44,
          "metadata": {},
          "output_type": "execute_result"
        },
        {
          "data": {
            "image/png": "[encoded data removed]",
            "text/plain": [
              "<Figure size 432x288 with 1 Axes>"
            ]
          },
          "metadata": {
            "needs_background": "light"
          },
          "output_type": "display_data"
        }
      ],
      "source": [
        "#q2\n",
        "plt.hist(df2['Age'], color = 'pink', edgecolor = 'black')\n",
        "plt.title('Histogram for the age distribution of silver medalists')\n",
        "plt.xlabel('Age')\n",
        "plt.ylabel('Count')"
      ]
    },
    {
      "cell_type": "markdown",
      "metadata": {
        "id": "1j_GTUOBBYYp"
      },
      "source": [
        "We notice that there are around 100 silver medalists have an age of 30 years\n",
        "and lesser than 20 players who have an age of below 35 years."
      ]
    },
    {
      "cell_type": "markdown",
      "metadata": {
        "id": "BZ_nozx0B8wO"
      },
      "source": []
    },
    {
      "cell_type": "code",
      "execution_count": 37,
      "metadata": {
        "colab": {
          "base_uri": "https://localhost:8080/",
          "height": 417
        },
        "id": "xFs9xhHy4RMY",
        "outputId": "5aab51fc-5e30-463f-ad70-10611b2bb666"
      },
      "outputs": [
        {
          "data": {
            "text/html": [
              "<div>\n",
              "<style scoped>\n",
              "    .dataframe tbody tr th:only-of-type {\n",
              "        vertical-align: middle;\n",
              "    }\n",
              "\n",
              "    .dataframe tbody tr th {\n",
              "        vertical-align: top;\n",
              "    }\n",
              "\n",
              "    .dataframe thead th {\n",
              "        text-align: right;\n",
              "    }\n",
              "</style>\n",
              "<table border=\"1\" class=\"dataframe\">\n",
              "  <thead>\n",
              "    <tr style=\"text-align: right;\">\n",
              "      <th></th>\n",
              "      <th>ID</th>\n",
              "      <th>Name</th>\n",
              "      <th>Sex</th>\n",
              "      <th>Age</th>\n",
              "      <th>Height</th>\n",
              "      <th>Weight</th>\n",
              "      <th>Team</th>\n",
              "      <th>NOC</th>\n",
              "      <th>Games</th>\n",
              "      <th>Year</th>\n",
              "      <th>Season</th>\n",
              "      <th>City</th>\n",
              "      <th>Sport</th>\n",
              "      <th>Event</th>\n",
              "      <th>Medal</th>\n",
              "      <th>BMI</th>\n",
              "    </tr>\n",
              "  </thead>\n",
              "  <tbody>\n",
              "    <tr>\n",
              "      <th>0</th>\n",
              "      <td>30</td>\n",
              "      <td>Pepijn Aardewijn</td>\n",
              "      <td>M</td>\n",
              "      <td>28.0</td>\n",
              "      <td>192.0</td>\n",
              "      <td>76.0</td>\n",
              "      <td>Czechoslovakia</td>\n",
              "      <td>TCH</td>\n",
              "      <td>1996 Summer</td>\n",
              "      <td>1996</td>\n",
              "      <td>Summer</td>\n",
              "      <td>Atlanta</td>\n",
              "      <td>Rowing</td>\n",
              "      <td>Rowing Men's Lightweight Double Sculls</td>\n",
              "      <td>Silver</td>\n",
              "      <td>0.002062</td>\n",
              "    </tr>\n",
              "    <tr>\n",
              "      <th>1</th>\n",
              "      <td>62</td>\n",
              "      <td>Giovanni Abagnale</td>\n",
              "      <td>M</td>\n",
              "      <td>23.0</td>\n",
              "      <td>201.0</td>\n",
              "      <td>94.0</td>\n",
              "      <td>Germany</td>\n",
              "      <td>GER</td>\n",
              "      <td>2016 Summer</td>\n",
              "      <td>2016</td>\n",
              "      <td>Summer</td>\n",
              "      <td>Rio de Janeiro</td>\n",
              "      <td>Rowing</td>\n",
              "      <td>Rowing Men's Coxless Pairs</td>\n",
              "      <td>Bronze</td>\n",
              "      <td>0.002327</td>\n",
              "    </tr>\n",
              "    <tr>\n",
              "      <th>2</th>\n",
              "      <td>106</td>\n",
              "      <td>Agostino Abbagnale</td>\n",
              "      <td>M</td>\n",
              "      <td>38.0</td>\n",
              "      <td>191.0</td>\n",
              "      <td>100.0</td>\n",
              "      <td>Germany</td>\n",
              "      <td>GER</td>\n",
              "      <td>1996 Summer</td>\n",
              "      <td>1996</td>\n",
              "      <td>Summer</td>\n",
              "      <td>Atlanta</td>\n",
              "      <td>Rowing</td>\n",
              "      <td>Rowing Men's Double Sculls</td>\n",
              "      <td>Gold</td>\n",
              "      <td>0.002741</td>\n",
              "    </tr>\n",
              "    <tr>\n",
              "      <th>3</th>\n",
              "      <td>106</td>\n",
              "      <td>Agostino Abbagnale</td>\n",
              "      <td>M</td>\n",
              "      <td>36.0</td>\n",
              "      <td>191.0</td>\n",
              "      <td>100.0</td>\n",
              "      <td>Germany</td>\n",
              "      <td>GER</td>\n",
              "      <td>2000 Summer</td>\n",
              "      <td>2000</td>\n",
              "      <td>Summer</td>\n",
              "      <td>Sydney</td>\n",
              "      <td>Rowing</td>\n",
              "      <td>Rowing Men's Quadruple Sculls</td>\n",
              "      <td>Gold</td>\n",
              "      <td>0.002741</td>\n",
              "    </tr>\n",
              "    <tr>\n",
              "      <th>4</th>\n",
              "      <td>107</td>\n",
              "      <td>Carmine Abbagnale</td>\n",
              "      <td>M</td>\n",
              "      <td>32.0</td>\n",
              "      <td>185.0</td>\n",
              "      <td>94.0</td>\n",
              "      <td>Germany</td>\n",
              "      <td>GER</td>\n",
              "      <td>1992 Summer</td>\n",
              "      <td>1992</td>\n",
              "      <td>Summer</td>\n",
              "      <td>Barcelona</td>\n",
              "      <td>Rowing</td>\n",
              "      <td>Rowing Men's Coxed Pairs</td>\n",
              "      <td>Silver</td>\n",
              "      <td>0.002747</td>\n",
              "    </tr>\n",
              "    <tr>\n",
              "      <th>...</th>\n",
              "      <td>...</td>\n",
              "      <td>...</td>\n",
              "      <td>...</td>\n",
              "      <td>...</td>\n",
              "      <td>...</td>\n",
              "      <td>...</td>\n",
              "      <td>...</td>\n",
              "      <td>...</td>\n",
              "      <td>...</td>\n",
              "      <td>...</td>\n",
              "      <td>...</td>\n",
              "      <td>...</td>\n",
              "      <td>...</td>\n",
              "      <td>...</td>\n",
              "      <td>...</td>\n",
              "      <td>...</td>\n",
              "    </tr>\n",
              "    <tr>\n",
              "      <th>994</th>\n",
              "      <td>134585</td>\n",
              "      <td>Zhang Xiuyun</td>\n",
              "      <td>F</td>\n",
              "      <td>30.0</td>\n",
              "      <td>181.0</td>\n",
              "      <td>75.0</td>\n",
              "      <td>China</td>\n",
              "      <td>CHN</td>\n",
              "      <td>1996 Summer</td>\n",
              "      <td>1996</td>\n",
              "      <td>Summer</td>\n",
              "      <td>Atlanta</td>\n",
              "      <td>Rowing</td>\n",
              "      <td>Rowing Women's Double Sculls</td>\n",
              "      <td>Silver</td>\n",
              "      <td>0.002289</td>\n",
              "    </tr>\n",
              "    <tr>\n",
              "      <th>995</th>\n",
              "      <td>134592</td>\n",
              "      <td>Zhang Yangyang</td>\n",
              "      <td>F</td>\n",
              "      <td>21.0</td>\n",
              "      <td>188.0</td>\n",
              "      <td>84.0</td>\n",
              "      <td>China</td>\n",
              "      <td>CHN</td>\n",
              "      <td>2008 Summer</td>\n",
              "      <td>2008</td>\n",
              "      <td>Summer</td>\n",
              "      <td>Beijing</td>\n",
              "      <td>Rowing</td>\n",
              "      <td>Rowing Women's Quadruple Sculls</td>\n",
              "      <td>Gold</td>\n",
              "      <td>0.002377</td>\n",
              "    </tr>\n",
              "    <tr>\n",
              "      <th>996</th>\n",
              "      <td>135169</td>\n",
              "      <td>Marina Nikolayevna Znak</td>\n",
              "      <td>F</td>\n",
              "      <td>37.0</td>\n",
              "      <td>183.0</td>\n",
              "      <td>79.0</td>\n",
              "      <td>Switzerland</td>\n",
              "      <td>SUI</td>\n",
              "      <td>1996 Summer</td>\n",
              "      <td>1996</td>\n",
              "      <td>Summer</td>\n",
              "      <td>Atlanta</td>\n",
              "      <td>Rowing</td>\n",
              "      <td>Rowing Women's Coxed Eights</td>\n",
              "      <td>Bronze</td>\n",
              "      <td>0.002359</td>\n",
              "    </tr>\n",
              "    <tr>\n",
              "      <th>997</th>\n",
              "      <td>135545</td>\n",
              "      <td>Henk Jan Zwolle</td>\n",
              "      <td>M</td>\n",
              "      <td>29.0</td>\n",
              "      <td>200.0</td>\n",
              "      <td>97.0</td>\n",
              "      <td>Czechoslovakia</td>\n",
              "      <td>TCH</td>\n",
              "      <td>1992 Summer</td>\n",
              "      <td>1992</td>\n",
              "      <td>Summer</td>\n",
              "      <td>Barcelona</td>\n",
              "      <td>Rowing</td>\n",
              "      <td>Rowing Men's Double Sculls</td>\n",
              "      <td>Bronze</td>\n",
              "      <td>0.002425</td>\n",
              "    </tr>\n",
              "    <tr>\n",
              "      <th>998</th>\n",
              "      <td>135545</td>\n",
              "      <td>Henk Jan Zwolle</td>\n",
              "      <td>M</td>\n",
              "      <td>33.0</td>\n",
              "      <td>200.0</td>\n",
              "      <td>97.0</td>\n",
              "      <td>Czechoslovakia</td>\n",
              "      <td>TCH</td>\n",
              "      <td>1996 Summer</td>\n",
              "      <td>1996</td>\n",
              "      <td>Summer</td>\n",
              "      <td>Atlanta</td>\n",
              "      <td>Rowing</td>\n",
              "      <td>Rowing Men's Coxed Eights</td>\n",
              "      <td>Gold</td>\n",
              "      <td>0.002425</td>\n",
              "    </tr>\n",
              "  </tbody>\n",
              "</table>\n",
              "<p>999 rows × 16 columns</p>\n",
              "</div>"
            ],
            "text/plain": [
              "         ID                     Name  ...   Medal       BMI\n",
              "0        30         Pepijn Aardewijn  ...  Silver  0.002062\n",
              "1        62        Giovanni Abagnale  ...  Bronze  0.002327\n",
              "2       106       Agostino Abbagnale  ...    Gold  0.002741\n",
              "3       106       Agostino Abbagnale  ...    Gold  0.002741\n",
              "4       107        Carmine Abbagnale  ...  Silver  0.002747\n",
              "..      ...                      ...  ...     ...       ...\n",
              "994  134585             Zhang Xiuyun  ...  Silver  0.002289\n",
              "995  134592           Zhang Yangyang  ...    Gold  0.002377\n",
              "996  135169  Marina Nikolayevna Znak  ...  Bronze  0.002359\n",
              "997  135545          Henk Jan Zwolle  ...  Bronze  0.002425\n",
              "998  135545          Henk Jan Zwolle  ...    Gold  0.002425\n",
              "\n",
              "[999 rows x 16 columns]"
            ]
          },
          "execution_count": 37,
          "metadata": {},
          "output_type": "execute_result"
        }
      ],
      "source": [
        "#q3\n",
        "def BMI(data):\n",
        "  return data['Weight']/data['Height']**2\n",
        "df['BMI']=df.apply(BMI,axis=1)\n",
        "df"
      ]
    },
    {
      "cell_type": "code",
      "execution_count": 55,
      "metadata": {
        "colab": {
          "base_uri": "https://localhost:8080/"
        },
        "id": "RDKGU31YGmc-",
        "outputId": "f64c9369-85d3-4f13-87e2-273fd483b27f"
      },
      "outputs": [
        {
          "data": {
            "text/plain": [
              "0      Rowing\n",
              "1      Rowing\n",
              "2      Rowing\n",
              "3      Rowing\n",
              "4      Rowing\n",
              "        ...  \n",
              "994    Rowing\n",
              "995    Rowing\n",
              "996    Rowing\n",
              "997    Rowing\n",
              "998    Rowing\n",
              "Name: Sport, Length: 999, dtype: object"
            ]
          },
          "execution_count": 55,
          "metadata": {},
          "output_type": "execute_result"
        }
      ],
      "source": [
        "df.Sport"
      ]
    },
    {
      "cell_type": "markdown",
      "metadata": {
        "id": "1FI9GzUWLhqM"
      },
      "source": [
        "The only sport given is Rowing"
      ]
    },
    {
      "cell_type": "code",
      "execution_count": 45,
      "metadata": {
        "colab": {
          "base_uri": "https://localhost:8080/",
          "height": 297
        },
        "id": "OS8G-JGi4R3L",
        "outputId": "96482f04-1630-4185-c426-3f3d30a0436f"
      },
      "outputs": [
        {
          "data": {
            "text/plain": [
              "<matplotlib.axes._subplots.AxesSubplot at 0x7f0a2df8b5d0>"
            ]
          },
          "execution_count": 45,
          "metadata": {},
          "output_type": "execute_result"
        },
        {
          "data": {
            "image/png": "[encoded data removed]",
            "text/plain": [
              "<Figure size 432x288 with 1 Axes>"
            ]
          },
          "metadata": {
            "needs_background": "light"
          },
          "output_type": "display_data"
        }
      ],
      "source": [
        "#q4\n",
        "df.plot.scatter(x='Weight',y='Height')"
      ]
    },
    {
      "cell_type": "markdown",
      "metadata": {
        "id": "WjLsfOwpDWJj"
      },
      "source": [
        "We can observe that the data points are split in a direction of left to right and hence we can say that there is a **positve correlation** between the two variables.\n"
      ]
    },
    {
      "cell_type": "code",
      "execution_count": 51,
      "metadata": {
        "colab": {
          "base_uri": "https://localhost:8080/",
          "height": 417
        },
        "id": "Bbhq8HUDCDOk",
        "outputId": "d84bfeef-9874-4314-dbaa-b55dbc395ff1"
      },
      "outputs": [
        {
          "data": {
            "text/html": [
              "<div>\n",
              "<style scoped>\n",
              "    .dataframe tbody tr th:only-of-type {\n",
              "        vertical-align: middle;\n",
              "    }\n",
              "\n",
              "    .dataframe tbody tr th {\n",
              "        vertical-align: top;\n",
              "    }\n",
              "\n",
              "    .dataframe thead th {\n",
              "        text-align: right;\n",
              "    }\n",
              "</style>\n",
              "<table border=\"1\" class=\"dataframe\">\n",
              "  <thead>\n",
              "    <tr style=\"text-align: right;\">\n",
              "      <th></th>\n",
              "      <th>Sex</th>\n",
              "      <th>Sport</th>\n",
              "    </tr>\n",
              "  </thead>\n",
              "  <tbody>\n",
              "    <tr>\n",
              "      <th>0</th>\n",
              "      <td>M</td>\n",
              "      <td>Rowing</td>\n",
              "    </tr>\n",
              "    <tr>\n",
              "      <th>4</th>\n",
              "      <td>M</td>\n",
              "      <td>Rowing</td>\n",
              "    </tr>\n",
              "    <tr>\n",
              "      <th>5</th>\n",
              "      <td>M</td>\n",
              "      <td>Rowing</td>\n",
              "    </tr>\n",
              "    <tr>\n",
              "      <th>7</th>\n",
              "      <td>F</td>\n",
              "      <td>Rowing</td>\n",
              "    </tr>\n",
              "    <tr>\n",
              "      <th>10</th>\n",
              "      <td>M</td>\n",
              "      <td>Rowing</td>\n",
              "    </tr>\n",
              "    <tr>\n",
              "      <th>...</th>\n",
              "      <td>...</td>\n",
              "      <td>...</td>\n",
              "    </tr>\n",
              "    <tr>\n",
              "      <th>987</th>\n",
              "      <td>F</td>\n",
              "      <td>Rowing</td>\n",
              "    </tr>\n",
              "    <tr>\n",
              "      <th>989</th>\n",
              "      <td>F</td>\n",
              "      <td>Rowing</td>\n",
              "    </tr>\n",
              "    <tr>\n",
              "      <th>991</th>\n",
              "      <td>M</td>\n",
              "      <td>Rowing</td>\n",
              "    </tr>\n",
              "    <tr>\n",
              "      <th>993</th>\n",
              "      <td>M</td>\n",
              "      <td>Rowing</td>\n",
              "    </tr>\n",
              "    <tr>\n",
              "      <th>994</th>\n",
              "      <td>F</td>\n",
              "      <td>Rowing</td>\n",
              "    </tr>\n",
              "  </tbody>\n",
              "</table>\n",
              "<p>334 rows × 2 columns</p>\n",
              "</div>"
            ],
            "text/plain": [
              "    Sex   Sport\n",
              "0     M  Rowing\n",
              "4     M  Rowing\n",
              "5     M  Rowing\n",
              "7     F  Rowing\n",
              "10    M  Rowing\n",
              "..   ..     ...\n",
              "987   F  Rowing\n",
              "989   F  Rowing\n",
              "991   M  Rowing\n",
              "993   M  Rowing\n",
              "994   F  Rowing\n",
              "\n",
              "[334 rows x 2 columns]"
            ]
          },
          "execution_count": 51,
          "metadata": {},
          "output_type": "execute_result"
        }
      ],
      "source": [
        "#q5\n",
        "df3=df[df['Year']>=2012]#creating a data frame for the years greater that 2012(5 years of data required)\n",
        "df4=df1.drop(['ID','Name','Height','Weight','Team','NOC','Games','Year','Season','City','Event','Age','Medal'],axis=1)#creating a data frame of just the gender and the sport\n",
        "df4\n"
      ]
    },
    {
      "cell_type": "code",
      "execution_count": 56,
      "metadata": {
        "colab": {
          "base_uri": "https://localhost:8080/"
        },
        "id": "MkByjacLFpGk",
        "outputId": "cb8dedd7-a0ed-4ed9-d8a7-ce31042e4b17"
      },
      "outputs": [
        {
          "data": {
            "text/plain": [
              "M    195\n",
              "F    139\n",
              "Name: Sex, dtype: int64"
            ]
          },
          "execution_count": 56,
          "metadata": {},
          "output_type": "execute_result"
        }
      ],
      "source": [
        "gender_counts=df4.Sex.value_counts()\n",
        "gender_counts#getting the number of male and female participants\n"
      ]
    },
    {
      "cell_type": "code",
      "execution_count": 57,
      "metadata": {
        "colab": {
          "base_uri": "https://localhost:8080/",
          "height": 349
        },
        "id": "gnRZtq3OGfXg",
        "outputId": "f135e0cb-b72a-42ab-a1c5-9ba1fadd18b2"
      },
      "outputs": [
        {
          "data": {
            "text/plain": [
              "([<matplotlib.patches.Wedge at 0x7f0a2decc4d0>,\n",
              "  <matplotlib.patches.Wedge at 0x7f0a2deccd10>],\n",
              " [Text(0.28636622847319876, -1.06207079951858, 'M'),\n",
              "  Text(-0.2863662284731996, 1.0620707995185799, 'F')],\n",
              " [Text(0.1561997609853811, -0.5793113451919527, '58.4%'),\n",
              "  Text(-0.15619976098538157, 0.5793113451919526, '41.6%')])"
            ]
          },
          "execution_count": 57,
          "metadata": {},
          "output_type": "execute_result"
        },
        {
          "data": {
            "image/png": "[encoded data removed]",
            "text/plain": [
              "<Figure size 432x288 with 1 Axes>"
            ]
          },
          "metadata": {},
          "output_type": "display_data"
        }
      ],
      "source": [
        "plt.pie(gender_counts,labels=gender_counts.index, \n",
        "        autopct='%1.1f%%', startangle=180, shadow=True)"
      ]
    },
    {
      "cell_type": "markdown",
      "metadata": {
        "id": "uJL7DwF1IYvg"
      },
      "source": [
        "We notice that for the given sport of Rowing, between the years 2012-2016(5 years), the participation consists of 41.6% of Females and 58.4% of Males.\n"
      ]
    },
    {
      "cell_type": "code",
      "execution_count": 58,
      "metadata": {
        "colab": {
          "base_uri": "https://localhost:8080/"
        },
        "id": "ReYYRhWBHsvY",
        "outputId": "47135eae-f117-4c83-cdc3-de5dfdd08e49"
      },
      "outputs": [
        {
          "data": {
            "text/plain": [
              "Poland            123\n",
              "Austria           117\n",
              "Norway             96\n",
              "Netherlands        92\n",
              "Belgium            91\n",
              "Czechoslovakia     83\n",
              "Great Britain      82\n",
              "Germany            43\n",
              "Croatia            38\n",
              "Unified Team       29\n",
              "Lithuania          26\n",
              "United States      22\n",
              "Ireland            18\n",
              "Canada             17\n",
              "Australia          14\n",
              "China              14\n",
              "Switzerland        12\n",
              "South Africa       12\n",
              "Bulgaria           11\n",
              "New Zealand         8\n",
              "Estonia             8\n",
              "Czech Republic      8\n",
              "Ukraine             7\n",
              "Russia              6\n",
              "France              6\n",
              "Finland             4\n",
              "Slovenia            4\n",
              "Belarus             2\n",
              "Italy               2\n",
              "Greece              2\n",
              "Romania             1\n",
              "Denmark             1\n",
              "Name: Team, dtype: int64"
            ]
          },
          "execution_count": 58,
          "metadata": {},
          "output_type": "execute_result"
        }
      ],
      "source": [
        "#task details\n",
        "#q1\n",
        "team_counts=df.Team.value_counts()\n",
        "team_counts #finding the tea with maximum participation "
      ]
    },
    {
      "cell_type": "markdown",
      "metadata": {
        "id": "NTvztc3TMI1m"
      },
      "source": [
        "We notice that Poland has the maximum numbre of participation, that is of 123\n"
      ]
    },
    {
      "cell_type": "code",
      "execution_count": 88,
      "metadata": {
        "colab": {
          "base_uri": "https://localhost:8080/",
          "height": 417
        },
        "id": "AqUdpl9NLFmQ",
        "outputId": "b3420753-52d3-4d67-a2b2-6768901955e7"
      },
      "outputs": [
        {
          "data": {
            "text/html": [
              "<div>\n",
              "<style scoped>\n",
              "    .dataframe tbody tr th:only-of-type {\n",
              "        vertical-align: middle;\n",
              "    }\n",
              "\n",
              "    .dataframe tbody tr th {\n",
              "        vertical-align: top;\n",
              "    }\n",
              "\n",
              "    .dataframe thead th {\n",
              "        text-align: right;\n",
              "    }\n",
              "</style>\n",
              "<table border=\"1\" class=\"dataframe\">\n",
              "  <thead>\n",
              "    <tr style=\"text-align: right;\">\n",
              "      <th></th>\n",
              "      <th>Team</th>\n",
              "      <th>Year</th>\n",
              "      <th>Medal</th>\n",
              "    </tr>\n",
              "  </thead>\n",
              "  <tbody>\n",
              "    <tr>\n",
              "      <th>604</th>\n",
              "      <td>Poland</td>\n",
              "      <td>1992</td>\n",
              "      <td>Bronze</td>\n",
              "    </tr>\n",
              "    <tr>\n",
              "      <th>434</th>\n",
              "      <td>Poland</td>\n",
              "      <td>1992</td>\n",
              "      <td>Silver</td>\n",
              "    </tr>\n",
              "    <tr>\n",
              "      <th>443</th>\n",
              "      <td>Poland</td>\n",
              "      <td>1992</td>\n",
              "      <td>Bronze</td>\n",
              "    </tr>\n",
              "    <tr>\n",
              "      <th>445</th>\n",
              "      <td>Poland</td>\n",
              "      <td>1992</td>\n",
              "      <td>Bronze</td>\n",
              "    </tr>\n",
              "    <tr>\n",
              "      <th>452</th>\n",
              "      <td>Poland</td>\n",
              "      <td>1992</td>\n",
              "      <td>Gold</td>\n",
              "    </tr>\n",
              "    <tr>\n",
              "      <th>...</th>\n",
              "      <td>...</td>\n",
              "      <td>...</td>\n",
              "      <td>...</td>\n",
              "    </tr>\n",
              "    <tr>\n",
              "      <th>341</th>\n",
              "      <td>Poland</td>\n",
              "      <td>2016</td>\n",
              "      <td>Gold</td>\n",
              "    </tr>\n",
              "    <tr>\n",
              "      <th>492</th>\n",
              "      <td>Poland</td>\n",
              "      <td>2016</td>\n",
              "      <td>Gold</td>\n",
              "    </tr>\n",
              "    <tr>\n",
              "      <th>762</th>\n",
              "      <td>Poland</td>\n",
              "      <td>2016</td>\n",
              "      <td>Gold</td>\n",
              "    </tr>\n",
              "    <tr>\n",
              "      <th>591</th>\n",
              "      <td>Poland</td>\n",
              "      <td>2016</td>\n",
              "      <td>Silver</td>\n",
              "    </tr>\n",
              "    <tr>\n",
              "      <th>746</th>\n",
              "      <td>Poland</td>\n",
              "      <td>2016</td>\n",
              "      <td>Silver</td>\n",
              "    </tr>\n",
              "  </tbody>\n",
              "</table>\n",
              "<p>123 rows × 3 columns</p>\n",
              "</div>"
            ],
            "text/plain": [
              "       Team  Year   Medal\n",
              "604  Poland  1992  Bronze\n",
              "434  Poland  1992  Silver\n",
              "443  Poland  1992  Bronze\n",
              "445  Poland  1992  Bronze\n",
              "452  Poland  1992    Gold\n",
              "..      ...   ...     ...\n",
              "341  Poland  2016    Gold\n",
              "492  Poland  2016    Gold\n",
              "762  Poland  2016    Gold\n",
              "591  Poland  2016  Silver\n",
              "746  Poland  2016  Silver\n",
              "\n",
              "[123 rows x 3 columns]"
            ]
          },
          "execution_count": 88,
          "metadata": {},
          "output_type": "execute_result"
        }
      ],
      "source": [
        "df5=df[df['Team']=='Poland']#creating a data frame of just Team Poland\n",
        "df6=df5.drop(['ID','Name','Sex','Age','Height','Weight','NOC','Games','Season','City','Sport','Event','BMI'],axis=1)\n",
        "df6.sort_values(\"Year\")#sorting based on year"
      ]
    },
    {
      "cell_type": "code",
      "execution_count": 100,
      "metadata": {
        "colab": {
          "base_uri": "https://localhost:8080/"
        },
        "id": "nCmB0_6sTPYA",
        "outputId": "4b810699-9b4b-4ef6-e273-e1c0f3fc33bf"
      },
      "outputs": [
        {
          "name": "stdout",
          "output_type": "stream",
          "text": [
            "{'Poland': 123, 'Austria': 117, 'Norway': 96, 'Netherlands': 92, 'Belgium': 91, 'Czechoslovakia': 83, 'Great Britain': 82, 'Germany': 43, 'Croatia': 38, 'Unified Team': 29, 'Lithuania': 26, 'United States': 22, 'Ireland': 18, 'Canada': 17, 'Australia': 14, 'Switzerland': 12, 'Bulgaria': 11, 'New Zealand': 8, 'Ukraine': 7, 'France': 6, 'Finland': 4, 'Greece': 2, 'Romania': 1}\n"
          ]
        }
      ],
      "source": [
        "dict = {}\n",
        "\n",
        "for index,row in df.iterrows():\n",
        "  if row['Team'] not in dict.keys():\n",
        "    dict[row['Team']] = 1\n",
        "  else:\n",
        "    dict[row['Team']] += 1\n",
        "\n",
        "sorted_values = sorted(dict.values(),reverse=True) # Sort the values\n",
        "sorted_dict = {}\n",
        "\n",
        "for i in sorted_values:\n",
        "    for k in dict.keys():\n",
        "        if dict[k] == i:\n",
        "            sorted_dict[k] = dict[k]\n",
        "            break\n",
        "\n",
        "print(sorted_dict)"
      ]
    },
    {
      "cell_type": "markdown",
      "metadata": {
        "id": "CuocHuwFhRUn"
      },
      "source": [
        "Hence Poland has the highest number of medals won."
      ]
    },
    {
      "cell_type": "code",
      "execution_count": 102,
      "metadata": {
        "colab": {
          "base_uri": "https://localhost:8080/",
          "height": 312
        },
        "id": "ojAeOlcahKft",
        "outputId": "4987f28c-ea39-44b6-a200-91c76fc0f8dd"
      },
      "outputs": [
        {
          "data": {
            "text/plain": [
              "<matplotlib.axes._subplots.AxesSubplot at 0x7f0a2db3f2d0>"
            ]
          },
          "execution_count": 102,
          "metadata": {},
          "output_type": "execute_result"
        },
        {
          "data": {
            "image/png": "[encoded data removed]",
            "text/plain": [
              "<Figure size 432x288 with 1 Axes>"
            ]
          },
          "metadata": {
            "needs_background": "light"
          },
          "output_type": "display_data"
        }
      ],
      "source": [
        "Poland = []\n",
        "for index,row in df.iterrows():\n",
        "  if row['Team'] == \"Poland\":\n",
        "    Poland.append(row)\n",
        "Poland_data = pd.DataFrame(Poland)\n",
        "Poland_data\n",
        "data_plot = Poland_data.groupby(['Medal', 'Year']).size().reset_index().pivot(columns='Medal', index='Year', values=0)\n",
        "data_plot.plot(kind='bar', stacked=True)"
      ]
    },
    {
      "cell_type": "markdown",
      "metadata": {
        "id": "3PEXaqvPiswX"
      },
      "source": [
        "We notice that in the year 1992, many participants(over 20) won a Bronze medal. In 2008, no gold medal was won. In years 2012 and 2016, the bronze medal was not won at all. There was record number of gold medals in 2012"
      ]
    },
    {
      "cell_type": "code",
      "execution_count": 104,
      "metadata": {
        "colab": {
          "base_uri": "https://localhost:8080/",
          "height": 417
        },
        "id": "20bGUt48hlv_",
        "outputId": "7948e121-4693-4a10-ec44-7b33ce7e300f"
      },
      "outputs": [
        {
          "data": {
            "text/html": [
              "<div>\n",
              "<style scoped>\n",
              "    .dataframe tbody tr th:only-of-type {\n",
              "        vertical-align: middle;\n",
              "    }\n",
              "\n",
              "    .dataframe tbody tr th {\n",
              "        vertical-align: top;\n",
              "    }\n",
              "\n",
              "    .dataframe thead th {\n",
              "        text-align: right;\n",
              "    }\n",
              "</style>\n",
              "<table border=\"1\" class=\"dataframe\">\n",
              "  <thead>\n",
              "    <tr style=\"text-align: right;\">\n",
              "      <th></th>\n",
              "      <th>Name</th>\n",
              "      <th>Success</th>\n",
              "    </tr>\n",
              "  </thead>\n",
              "  <tbody>\n",
              "    <tr>\n",
              "      <th>Georgeta Damian-Andrunache</th>\n",
              "      <td>6</td>\n",
              "      <td>6.0</td>\n",
              "    </tr>\n",
              "    <tr>\n",
              "      <th>Doina Ignat</th>\n",
              "      <td>6</td>\n",
              "      <td>6.0</td>\n",
              "    </tr>\n",
              "    <tr>\n",
              "      <th>Elisabeta Oleniuc-Lip</th>\n",
              "      <td>5</td>\n",
              "      <td>5.0</td>\n",
              "    </tr>\n",
              "    <tr>\n",
              "      <th>Yekaterina Anatolyevna Khodotovich-Karsten</th>\n",
              "      <td>5</td>\n",
              "      <td>5.0</td>\n",
              "    </tr>\n",
              "    <tr>\n",
              "      <th>Viorica Susanu</th>\n",
              "      <td>5</td>\n",
              "      <td>5.0</td>\n",
              "    </tr>\n",
              "    <tr>\n",
              "      <th>...</th>\n",
              "      <td>...</td>\n",
              "      <td>...</td>\n",
              "    </tr>\n",
              "    <tr>\n",
              "      <th>Claudia Renate Belderbos</th>\n",
              "      <td>1</td>\n",
              "      <td>1.0</td>\n",
              "    </tr>\n",
              "    <tr>\n",
              "      <th>Emily Regan</th>\n",
              "      <td>1</td>\n",
              "      <td>1.0</td>\n",
              "    </tr>\n",
              "    <tr>\n",
              "      <th>Daniel Noonan</th>\n",
              "      <td>1</td>\n",
              "      <td>1.0</td>\n",
              "    </tr>\n",
              "    <tr>\n",
              "      <th>Shannon Crawford</th>\n",
              "      <td>1</td>\n",
              "      <td>0.5</td>\n",
              "    </tr>\n",
              "    <tr>\n",
              "      <th>Xavier Elle Dorfman</th>\n",
              "      <td>1</td>\n",
              "      <td>1.0</td>\n",
              "    </tr>\n",
              "  </tbody>\n",
              "</table>\n",
              "<p>729 rows × 2 columns</p>\n",
              "</div>"
            ],
            "text/plain": [
              "                                            Name  Success\n",
              "Georgeta Damian-Andrunache                     6      6.0\n",
              "Doina Ignat                                    6      6.0\n",
              "Elisabeta Oleniuc-Lip                          5      5.0\n",
              "Yekaterina Anatolyevna Khodotovich-Karsten     5      5.0\n",
              "Viorica Susanu                                 5      5.0\n",
              "...                                          ...      ...\n",
              "Claudia Renate Belderbos                       1      1.0\n",
              "Emily Regan                                    1      1.0\n",
              "Daniel Noonan                                  1      1.0\n",
              "Shannon Crawford                               1      0.5\n",
              "Xavier Elle Dorfman                            1      1.0\n",
              "\n",
              "[729 rows x 2 columns]"
            ]
          },
          "execution_count": 104,
          "metadata": {},
          "output_type": "execute_result"
        }
      ],
      "source": [
        "#q2\n",
        "df['Year'].groupby(df['Name']).count()\n",
        "df['Name'].value_counts()\n",
        "data1 = list(df['Name'].value_counts())\n",
        "data2 = list(df['Year'].groupby(df['Name']).count()) # dataframe with athlete and number of medals\n",
        "list1 = list(zip(data1, data2))\n",
        "result = []\n",
        "for i,j in list1 : \n",
        "    result.append(i/j) #using the given formula for successes\n",
        "data1 = pd.DataFrame(df['Name'].value_counts())\n",
        "data1['Success'] = result\n",
        "data1"
      ]
    },
    {
      "cell_type": "markdown",
      "metadata": {
        "id": "LZPvCgNqlC1_"
      },
      "source": [
        "We notice that Georgeta Damian-Andrunache and Doina Ignat is the most successful participant who has record successes of 6 time."
      ]
    },
    {
      "cell_type": "code",
      "execution_count": null,
      "metadata": {
        "id": "LJ-I76f-l4cQ"
      },
      "outputs": [],
      "source": []
    }
  ],
  "metadata": {
    "colab": {
      "collapsed_sections": [],
      "name": "PES1UG20CS418_Olympics_14.ipynb",
      "provenance": []
    },
    "kernelspec": {
      "display_name": "Python 3",
      "name": "python3"
    },
    "language_info": {
      "name": "python"
    }
  },
  "nbformat": 4,
  "nbformat_minor": 0
}
